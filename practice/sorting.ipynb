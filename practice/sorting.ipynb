{
 "cells": [
  {
   "cell_type": "code",
   "execution_count": 7,
   "metadata": {},
   "outputs": [],
   "source": [
    "from qiskit import *\n",
    "from qiskit.visualization import plot_histogram"
   ]
  },
  {
   "cell_type": "code",
   "execution_count": 10,
   "metadata": {},
   "outputs": [
    {
     "data": {
      "text/html": [
       "<pre style=\"word-wrap: normal;white-space: pre;background: #fff0;line-height: 1.1;font-family: &quot;Courier New&quot;,Courier,monospace\">        ┌───┐      ░                 ░ ┌───┐┌─┐         \n",
       "q_0: |0>┤ H ├──────░─────────────────░─┤ H ├┤M├─────────\n",
       "        ├───┤      ░                 ░ ├───┤└╥┘┌─┐      \n",
       "q_1: |0>┤ H ├──────░────────■────────░─┤ H ├─╫─┤M├──────\n",
       "        ├───┤      ░        │        ░ ├───┤ ║ └╥┘┌─┐   \n",
       "q_2: |0>┤ H ├──────░───■────┼────────░─┤ H ├─╫──╫─┤M├───\n",
       "        ├───┤      ░   │    │        ░ ├───┤ ║  ║ └╥┘┌─┐\n",
       "q_3: |0>┤ H ├──────░───┼────┼────■───░─┤ H ├─╫──╫──╫─┤M├\n",
       "        ├───┤┌───┐ ░ ┌─┴─┐┌─┴─┐┌─┴─┐ ░ └───┘ ║  ║  ║ └╥┘\n",
       "q_4: |0>┤ X ├┤ H ├─░─┤ X ├┤ X ├┤ X ├─░───────╫──╫──╫──╫─\n",
       "        └───┘└───┘ ░ └───┘└───┘└───┘ ░       ║  ║  ║  ║ \n",
       " c_0: 0 ═════════════════════════════════════╩══╬══╬══╬═\n",
       "                                                ║  ║  ║ \n",
       " c_1: 0 ════════════════════════════════════════╩══╬══╬═\n",
       "                                                   ║  ║ \n",
       " c_2: 0 ═══════════════════════════════════════════╩══╬═\n",
       "                                                      ║ \n",
       " c_3: 0 ══════════════════════════════════════════════╩═\n",
       "                                                        </pre>"
      ],
      "text/plain": [
       "<qiskit.visualization.text.TextDrawing at 0x20360a30828>"
      ]
     },
     "execution_count": 10,
     "metadata": {},
     "output_type": "execute_result"
    }
   ],
   "source": [
    "qc = QuantumCircuit(5, 4)\n",
    "qc.x(4)\n",
    "for idx in range(5):\n",
    "    qc.h(idx)\n",
    "qc.barrier()\n",
    "qc.cx(2, 4)\n",
    "qc.cx(1, 4)\n",
    "qc.cx(3, 4)\n",
    "qc.barrier()\n",
    "\n",
    "for idx in range(4):\n",
    "    qc.h(idx)\n",
    "qc.measure(range(4),range(4))\n",
    "qc.draw()"
   ]
  },
  {
   "cell_type": "code",
   "execution_count": 11,
   "metadata": {},
   "outputs": [
    {
     "data": {
      "image/png": "[encoded data removed]",
      "text/plain": [
       "<Figure size 504x360 with 1 Axes>"
      ]
     },
     "execution_count": 11,
     "metadata": {},
     "output_type": "execute_result"
    }
   ],
   "source": [
    "backend = Aer.get_backend('qasm_simulator')\n",
    "exp_job = execute(qc, backend)\n",
    "#job_monitor(exp_job)\n",
    "exp_counts = exp_job.result().get_counts()\n",
    "plot_histogram(exp_counts)"
   ]
  },
  {
   "cell_type": "code",
   "execution_count": null,
   "metadata": {},
   "outputs": [],
   "source": []
  }
 ],
 "metadata": {
  "kernelspec": {
   "display_name": "Python 3",
   "language": "python",
   "name": "python3"
  },
  "language_info": {
   "codemirror_mode": {
    "name": "ipython",
    "version": 3
   },
   "file_extension": ".py",
   "mimetype": "text/x-python",
   "name": "python",
   "nbconvert_exporter": "python",
   "pygments_lexer": "ipython3",
   "version": "3.7.3"
  }
 },
 "nbformat": 4,
 "nbformat_minor": 2
}
