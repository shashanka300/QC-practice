{
 "cells": [
  {
   "cell_type": "code",
   "execution_count": 1,
   "metadata": {},
   "outputs": [],
   "source": [
    "from qiskit import*\n",
    "from qiskit.visualization import  plot_histogram"
   ]
  },
  {
   "cell_type": "code",
   "execution_count": 2,
   "metadata": {},
   "outputs": [
    {
     "data": {
      "text/plain": [
       "{'00010': 1}"
      ]
     },
     "execution_count": 2,
     "metadata": {},
     "output_type": "execute_result"
    }
   ],
   "source": [
    "qc = QuantumCircuit(1,5)\n",
    "\n",
    "qc.h(0) # the hadamard\n",
    "qc.measure(0,0)\n",
    "\n",
    "qc.x(0) # x gate\n",
    "qc.measure(0,1)\n",
    "\n",
    "qc.y(0) # y gate\n",
    "qc.measure(0,2)\n",
    "\n",
    "qc.z(0) # z gate\n",
    "qc.measure(0,3)\n",
    "\n",
    "# for the following, replace theta by any number\n",
    "theta = 3.14159/4\n",
    "qc.ry(theta,0); # y axis rotation\n",
    "qc.measure(0,4)\n",
    "\n",
    "qc.draw()\n",
    "count=execute(qc,Aer.get_backend(\"statevector_simulator\"),shots=3000).result().get_counts()\n",
    "count"
   ]
  },
  {
   "cell_type": "code",
   "execution_count": 6,
   "metadata": {},
   "outputs": [
    {
     "data": {
      "text/html": [
       "<pre style=\"word-wrap: normal;white-space: pre;background: #fff0;line-height: 1.1;font-family: &quot;Courier New&quot;,Courier,monospace\">        ┌─────┐┌───┐┌─┐\n",
       "q_0: |0>┤ Sdg ├┤ H ├┤M├\n",
       "        └─────┘└───┘└╥┘\n",
       " c_0: 0 ═════════════╩═\n",
       "                       </pre>"
      ],
      "text/plain": [
       "<qiskit.visualization.text.TextDrawing at 0x19e4c205688>"
      ]
     },
     "execution_count": 6,
     "metadata": {},
     "output_type": "execute_result"
    }
   ],
   "source": [
    "measure_y = QuantumCircuit(1,1)\n",
    "measure_y.sdg(0)\n",
    "measure_y.h(0)\n",
    "measure_y.measure(0,0);\n",
    "#execute(measure_y,Aer.get_backend(\"statevector_simulator\"),shots=3000).result().get_counts()\n",
    "measure_y.draw()"
   ]
  },
  {
   "cell_type": "code",
   "execution_count": null,
   "metadata": {},
   "outputs": [],
   "source": []
  }
 ],
 "metadata": {
  "kernelspec": {
   "display_name": "Python 3",
   "language": "python",
   "name": "python3"
  },
  "language_info": {
   "codemirror_mode": {
    "name": "ipython",
    "version": 3
   },
   "file_extension": ".py",
   "mimetype": "text/x-python",
   "name": "python",
   "nbconvert_exporter": "python",
   "pygments_lexer": "ipython3",
   "version": "3.7.5"
  }
 },
 "nbformat": 4,
 "nbformat_minor": 2
}
