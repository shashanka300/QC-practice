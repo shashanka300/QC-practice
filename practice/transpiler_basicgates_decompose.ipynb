{
 "cells": [
  {
   "cell_type": "code",
   "execution_count": 3,
   "metadata": {},
   "outputs": [],
   "source": [
    "import numpy as np\n",
    "from qiskit import *\n",
    "from qiskit.visualization import plot_histogram, plot_gate_map, plot_circuit_layout\n",
    "from qiskit.tools.monitor import job_monitor\n",
    "import matplotlib.pyplot as plt\n",
    "%matplotlib inline"
   ]
  },
  {
   "cell_type": "code",
   "execution_count": 9,
   "metadata": {},
   "outputs": [],
   "source": [
    "IBMQ.load_account()\n",
    "provider = IBMQ.get_provider(group='open')"
   ]
  },
  {
   "cell_type": "code",
   "execution_count": 18,
   "metadata": {},
   "outputs": [
    {
     "data": {
      "text/html": [
       "<pre style=\"word-wrap: normal;white-space: pre;background: #fff0;line-height: 1.1;font-family: &quot;Courier New&quot;,Courier,monospace\">        ┌──────────┐                     ░ ┌─┐            \n",
       "q_0: |0>┤ U2(0,pi) ├──■────■────■────■───░─┤M├────────────\n",
       "        └──────────┘┌─┴─┐  │    │    │   ░ └╥┘┌─┐         \n",
       "q_1: |0>────────────┤ X ├──┼────┼────┼───░──╫─┤M├─────────\n",
       "                    └───┘┌─┴─┐  │    │   ░  ║ └╥┘┌─┐      \n",
       "q_2: |0>─────────────────┤ X ├──┼────┼───░──╫──╫─┤M├──────\n",
       "                         └───┘┌─┴─┐  │   ░  ║  ║ └╥┘┌─┐   \n",
       "q_3: |0>──────────────────────┤ X ├──┼───░──╫──╫──╫─┤M├───\n",
       "                              └───┘┌─┴─┐ ░  ║  ║  ║ └╥┘┌─┐\n",
       "q_4: |0>───────────────────────────┤ X ├─░──╫──╫──╫──╫─┤M├\n",
       "                                   └───┘ ░  ║  ║  ║  ║ └╥┘\n",
       " c_0: 0 ════════════════════════════════════╩══╬══╬══╬══╬═\n",
       "                                               ║  ║  ║  ║ \n",
       " c_1: 0 ═══════════════════════════════════════╩══╬══╬══╬═\n",
       "                                                  ║  ║  ║ \n",
       " c_2: 0 ══════════════════════════════════════════╩══╬══╬═\n",
       "                                                     ║  ║ \n",
       " c_3: 0 ═════════════════════════════════════════════╩══╬═\n",
       "                                                        ║ \n",
       " c_4: 0 ════════════════════════════════════════════════╩═\n",
       "                                                          </pre>"
      ],
      "text/plain": [
       "<qiskit.visualization.text.TextDrawing at 0x1f096356400>"
      ]
     },
     "execution_count": 18,
     "metadata": {},
     "output_type": "execute_result"
    }
   ],
   "source": [
    "ghz = QuantumCircuit(5, 5)\n",
    "ghz.h(0)\n",
    "for idx in range(1,5):\n",
    "    ghz.cx(0,idx)\n",
    "ghz.barrier(range(5))\n",
    "ghz.measure(range(5), range(5))\n",
    "qc_internal=ghz.decompose()\n",
    "qc_internal.draw()\n"
   ]
  },
  {
   "cell_type": "code",
   "execution_count": 22,
   "metadata": {},
   "outputs": [
    {
     "name": "stdout",
     "output_type": "stream",
     "text": [
      "1\n"
     ]
    }
   ],
   "source": [
    "print(ghz.num_unitary_factors())"
   ]
  },
  {
   "cell_type": "code",
   "execution_count": 11,
   "metadata": {},
   "outputs": [
    {
     "data": {
      "text/plain": [
       "<Signature (circuits, backend=None, basis_gates=None, coupling_map=None, backend_properties=None, initial_layout=None, seed_transpiler=None, optimization_level=None, pass_manager=None, callback=None, output_name=None)>"
      ]
     },
     "execution_count": 11,
     "metadata": {},
     "output_type": "execute_result"
    }
   ],
   "source": [
    "import inspect\n",
    "inspect.signature(transpile)"
   ]
  },
  {
   "cell_type": "code",
   "execution_count": 12,
   "metadata": {},
   "outputs": [
    {
     "data": {
      "text/plain": [
       "[<IBMQBackend('ibmqx2') from IBMQ(hub='ibm-q', group='open', project='main')>,\n",
       " <IBMQBackend('ibmq_16_melbourne') from IBMQ(hub='ibm-q', group='open', project='main')>,\n",
       " <IBMQBackend('ibmq_vigo') from IBMQ(hub='ibm-q', group='open', project='main')>,\n",
       " <IBMQBackend('ibmq_ourense') from IBMQ(hub='ibm-q', group='open', project='main')>,\n",
       " <IBMQBackend('ibmq_london') from IBMQ(hub='ibm-q', group='open', project='main')>,\n",
       " <IBMQBackend('ibmq_burlington') from IBMQ(hub='ibm-q', group='open', project='main')>,\n",
       " <IBMQBackend('ibmq_essex') from IBMQ(hub='ibm-q', group='open', project='main')>,\n",
       " <IBMQBackend('ibmq_armonk') from IBMQ(hub='ibm-q', group='open', project='main')>]"
      ]
     },
     "execution_count": 12,
     "metadata": {},
     "output_type": "execute_result"
    }
   ],
   "source": [
    "provider = IBMQ.get_provider(group='open')\n",
    "provider.backends(simulator=False)"
   ]
  },
  {
   "cell_type": "code",
   "execution_count": 31,
   "metadata": {},
   "outputs": [
    {
     "data": {
      "text/plain": [
       "['u1', 'u2', 'u3', 'cx', 'id']"
      ]
     },
     "execution_count": 31,
     "metadata": {},
     "output_type": "execute_result"
    }
   ],
   "source": [
    "backend = provider.get_backend('ibmq_essex')\n",
    "backend.configuration().basis_gates# native gates"
   ]
  },
  {
   "cell_type": "code",
   "execution_count": 19,
   "metadata": {},
   "outputs": [
    {
     "data": {
      "text/html": [
       "<pre style=\"word-wrap: normal;white-space: pre;background: #fff0;line-height: 1.1;font-family: &quot;Courier New&quot;,Courier,monospace\">        ┌───┐       ┌───┐┌─┐\n",
       "q_0: |0>┤ H ├─■─────┤ H ├┤M├\n",
       "        ├───┤ │pi/4 └───┘└╥┘\n",
       "q_1: |0>┤ X ├─■───────────╫─\n",
       "        └───┘             ║ \n",
       " c_0: 0 ══════════════════╩═\n",
       "                            </pre>"
      ],
      "text/plain": [
       "<qiskit.visualization.text.TextDrawing at 0x1f096580748>"
      ]
     },
     "execution_count": 19,
     "metadata": {},
     "output_type": "execute_result"
    }
   ],
   "source": [
    "qc = QuantumCircuit(2, 1)\n",
    "\n",
    "qc.h(0)\n",
    "qc.x(1)\n",
    "qc.cu1(np.pi/4, 0, 1)# controled u gate\n",
    "qc.h(0)\n",
    "qc.measure([0], [0])\n",
    "qc.draw()"
   ]
  },
  {
   "cell_type": "code",
   "execution_count": 20,
   "metadata": {},
   "outputs": [
    {
     "data": {
      "text/html": [
       "<pre style=\"word-wrap: normal;white-space: pre;background: #fff0;line-height: 1.1;font-family: &quot;Courier New&quot;,Courier,monospace\">          ┌──────────┐ ┌──────────┐                       ┌──────────┐┌─┐\n",
       "q_0: |0>──┤ U2(0,pi) ├─┤ U1(pi/8) ├──■─────────────────■──┤ U2(0,pi) ├┤M├\n",
       "        ┌─┴──────────┴┐└──────────┘┌─┴─┐┌───────────┐┌─┴─┐├──────────┤└╥┘\n",
       "q_1: |0>┤ U3(pi,0,pi) ├────────────┤ X ├┤ U1(-pi/8) ├┤ X ├┤ U1(pi/8) ├─╫─\n",
       "        └─────────────┘            └───┘└───────────┘└───┘└──────────┘ ║ \n",
       " c_0: 0 ═══════════════════════════════════════════════════════════════╩═\n",
       "                                                                         </pre>"
      ],
      "text/plain": [
       "<qiskit.visualization.text.TextDrawing at 0x1f096353710>"
      ]
     },
     "execution_count": 20,
     "metadata": {},
     "output_type": "execute_result"
    }
   ],
   "source": [
    "qc_basis = qc.decompose()\n",
    "qc_basis.draw()"
   ]
  },
  {
   "cell_type": "code",
   "execution_count": 21,
   "metadata": {},
   "outputs": [
    {
     "name": "stdout",
     "output_type": "stream",
     "text": [
      "4 , 7\n"
     ]
    }
   ],
   "source": [
    "print(qc.depth(), ',', qc_basis.depth())# no of parallel operations"
   ]
  },
  {
   "cell_type": "markdown",
   "metadata": {},
   "source": [
    "# Trivial layout: Map virtual qubits to the same numbered physical qubit on the device, i.e. [0,1,2,3,4] -> [0,1,2,3,4] (default in optimization_level=0).\n",
    "\n",
    "# Dense layout: Find the sub-graph of the device with same number of qubits as the circuit with the greatest connectivity (default in optimization_level=1).\n",
    "\n",
    "# Noise adaptive layout: Uses the noise properties of the device, in concert with the circuit properties, to generate the layout with the best noise properties (default in optimization_level=2 and optimization_level=3)."
   ]
  },
  {
   "cell_type": "markdown",
   "metadata": {},
   "source": [
    "#circuit with large depth will be appreciably affected by noise and gate errors."
   ]
  },
  {
   "cell_type": "code",
   "execution_count": 23,
   "metadata": {},
   "outputs": [
    {
     "data": {
      "image/png": "[encoded data removed]",
      "text/plain": [
       "<Figure size 648x216 with 1 Axes>"
      ]
     },
     "execution_count": 23,
     "metadata": {},
     "output_type": "execute_result"
    }
   ],
   "source": [
    "# Qbit maping\n",
    "backend = provider.get_backend('ibmq_16_melbourne')\n",
    "plot_gate_map(backend, plot_directed=True)"
   ]
  },
  {
   "cell_type": "code",
   "execution_count": 24,
   "metadata": {},
   "outputs": [
    {
     "data": {
      "image/png": "[encoded data removed]",
      "text/plain": [
       "<Figure size 648x216 with 1 Axes>"
      ]
     },
     "execution_count": 24,
     "metadata": {},
     "output_type": "execute_result"
    }
   ],
   "source": [
    "backend= provider.get_backend('ibmq_16_melbourne')\n",
    "new_circ=transpile(ghz,backend=backend,optimization_level=0)\n",
    "plot_circuit_layout(new_circ,backend)"
   ]
  },
  {
   "cell_type": "code",
   "execution_count": 25,
   "metadata": {},
   "outputs": [
    {
     "data": {
      "image/png": "[encoded data removed]",
      "text/plain": [
       "<Figure size 648x216 with 1 Axes>"
      ]
     },
     "execution_count": 25,
     "metadata": {},
     "output_type": "execute_result"
    }
   ],
   "source": [
    "backend= provider.get_backend('ibmq_16_melbourne')\n",
    "new_circ=transpile(ghz,backend=backend,optimization_level=3)\n",
    "plot_circuit_layout(new_circ,backend)"
   ]
  },
  {
   "cell_type": "code",
   "execution_count": 32,
   "metadata": {},
   "outputs": [
    {
     "data": {
      "image/png": "[encoded data removed]",
      "text/plain": [
       "<Figure size 360x360 with 1 Axes>"
      ]
     },
     "execution_count": 32,
     "metadata": {},
     "output_type": "execute_result"
    }
   ],
   "source": [
    "backend = provider.get_backend('ibmq_essex')\n",
    "new_circ=transpile(ghz,backend=backend,optimization_level=0)\n",
    "plot_circuit_layout(new_circ,backend)"
   ]
  },
  {
   "cell_type": "code",
   "execution_count": null,
   "metadata": {},
   "outputs": [
    {
     "name": "stdout",
     "output_type": "stream",
     "text": [
      "Job Status: job is queued (2)       "
     ]
    }
   ],
   "source": [
    "job1 = execute(new_circ, backend)\n",
    "job_monitor(job1)"
   ]
  },
  {
   "cell_type": "code",
   "execution_count": null,
   "metadata": {},
   "outputs": [],
   "source": [
    "backend= provider.get_backend('ibmq_essex')\n",
    "new_circ=transpile(ghz,backend=backend,optimization_level=3)\n",
    "plot_circuit_layout(new_circ,backend)"
   ]
  },
  {
   "cell_type": "code",
   "execution_count": null,
   "metadata": {},
   "outputs": [],
   "source": [
    "job2 = execute(new_circ, backend)\n",
    "job_monitor(job2)"
   ]
  },
  {
   "cell_type": "code",
   "execution_count": null,
   "metadata": {},
   "outputs": [],
   "source": [
    "#plot_histogram([job1,job2],legend=legend)"
   ]
  },
  {
   "cell_type": "code",
   "execution_count": null,
   "metadata": {},
   "outputs": [],
   "source": [
    "good_ghz = transpile(ghz, backend, initial_layout=[4,2,0,1,3])\n",
    "print('Depth:', good_ghz.depth())\n",
    "plot_circuit_layout(good_ghz, backend)\n"
   ]
  },
  {
   "cell_type": "code",
   "execution_count": null,
   "metadata": {},
   "outputs": [],
   "source": [
    "job3 = execute(bad_ghz, backend)\n",
    "job_monitor(job3)"
   ]
  },
  {
   "cell_type": "code",
   "execution_count": null,
   "metadata": {},
   "outputs": [],
   "source": [
    "counts1 = job1.result().get_counts()\n",
    "counts2 = job2.result().get_counts()\n",
    "counts3 = job3.result().get_counts()"
   ]
  },
  {
   "cell_type": "code",
   "execution_count": null,
   "metadata": {},
   "outputs": [],
   "source": [
    "plot_histogram([counts1, counts2, counts3],\n",
    "               figsize=(18,8),\n",
    "               legend=['level3', 'good', 'bad'])"
   ]
  },
  {
   "cell_type": "code",
   "execution_count": null,
   "metadata": {},
   "outputs": [],
   "source": []
  }
 ],
 "metadata": {
  "kernelspec": {
   "display_name": "Python 3",
   "language": "python",
   "name": "python3"
  },
  "language_info": {
   "codemirror_mode": {
    "name": "ipython",
    "version": 3
   },
   "file_extension": ".py",
   "mimetype": "text/x-python",
   "name": "python",
   "nbconvert_exporter": "python",
   "pygments_lexer": "ipython3",
   "version": "3.7.3"
  }
 },
 "nbformat": 4,
 "nbformat_minor": 2
}
