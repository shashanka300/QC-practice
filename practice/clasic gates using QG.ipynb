{
 "cells": [
  {
   "cell_type": "code",
   "execution_count": 1,
   "metadata": {},
   "outputs": [],
   "source": [
    "from qiskit import * \n",
    "from qiskit.visualization import plot_histogram \n",
    "import numpy as np"
   ]
  },
  {
   "cell_type": "code",
   "execution_count": 2,
   "metadata": {},
   "outputs": [
    {
     "data": {
      "text/plain": [
       "'1'"
      ]
     },
     "execution_count": 2,
     "metadata": {},
     "output_type": "execute_result"
    }
   ],
   "source": [
    "def NOT(inpu):\n",
    "    qr= QuantumRegister(1)\n",
    "    cr=ClassicalRegister(1)\n",
    "    qc=QuantumCircuit(qr,cr)\n",
    "    \n",
    "    if inpu == \"1\":\n",
    "        qc.x(0)\n",
    "\n",
    "    qc.x(0)\n",
    "    qc.measure(0,0)\n",
    "    bac= Aer.get_backend(\"qasm_simulator\")\n",
    "    job= execute(qc,bac,shots=1)\n",
    "    output= next(iter(job.result().get_counts()))\n",
    "    return output\n",
    "    \n",
    "inpu= 0\n",
    "NOT(inpu)"
   ]
  },
  {
   "cell_type": "code",
   "execution_count": 3,
   "metadata": {},
   "outputs": [
    {
     "data": {
      "text/plain": [
       "'1'"
      ]
     },
     "execution_count": 3,
     "metadata": {},
     "output_type": "execute_result"
    }
   ],
   "source": [
    "def XOR(inp1,inp2):\n",
    "    qr= QuantumRegister(1)\n",
    "    cr=ClassicalRegister(1)\n",
    "    qc=QuantumCircuit(qr,cr)\n",
    "    \n",
    "    if inp1!=inp2:\n",
    "        qc.x(0)\n",
    "    elif inp1==inp2:\n",
    "        pass\n",
    "\n",
    "    qc.measure(0,0)\n",
    "    \n",
    "    bac= Aer.get_backend(\"qasm_simulator\")\n",
    "    job = execute(qc,bac,shots=1,memory=True)\n",
    "    output = job.result().get_memory()[0]\n",
    "    return output\n",
    "\n",
    "XOR(0,1)\n",
    "    "
   ]
  },
  {
   "cell_type": "code",
   "execution_count": 4,
   "metadata": {},
   "outputs": [
    {
     "data": {
      "text/plain": [
       "'0'"
      ]
     },
     "execution_count": 4,
     "metadata": {},
     "output_type": "execute_result"
    }
   ],
   "source": [
    "def AND(inp1,inp2):\n",
    "    qr= QuantumRegister(1)\n",
    "    cr=ClassicalRegister(1)\n",
    "    qc=QuantumCircuit(qr,cr)\n",
    "    \n",
    "    if inp1==inp2==\"1\":\n",
    "        qc.x(0)\n",
    "    elif inp1!=inp2:\n",
    "        pass\n",
    "\n",
    "    qc.measure(0,0)\n",
    "    \n",
    "    bac= Aer.get_backend(\"qasm_simulator\")\n",
    "    job = execute(qc,bac,shots=1,memory=True)\n",
    "    output = job.result().get_memory()[0]\n",
    "    return output\n",
    "\n",
    "AND(0,0)"
   ]
  },
  {
   "cell_type": "code",
   "execution_count": 5,
   "metadata": {},
   "outputs": [
    {
     "data": {
      "text/plain": [
       "'1'"
      ]
     },
     "execution_count": 5,
     "metadata": {},
     "output_type": "execute_result"
    }
   ],
   "source": [
    "def OR(inp1,inp2):\n",
    "    qr= QuantumRegister(1)\n",
    "    cr=ClassicalRegister(1)\n",
    "    qc=QuantumCircuit(qr,cr)\n",
    "    \n",
    "    \n",
    "    if inp1==inp2==\"0\":\n",
    "        pass\n",
    "    else:\n",
    "        qc.x(0)\n",
    "        \n",
    "    qc.measure(0,0)\n",
    "    \n",
    "    bac= Aer.get_backend(\"qasm_simulator\")\n",
    "    job = execute(qc,bac,shots=1,memory=True)\n",
    "    output = job.result().get_memory()[0]\n",
    "    return output\n",
    "\n",
    "OR(0,0)"
   ]
  },
  {
   "cell_type": "code",
   "execution_count": 6,
   "metadata": {},
   "outputs": [
    {
     "data": {
      "text/plain": [
       "'0'"
      ]
     },
     "execution_count": 6,
     "metadata": {},
     "output_type": "execute_result"
    }
   ],
   "source": [
    "def NAND(inp1,inp2):\n",
    "    qr= QuantumRegister(1)\n",
    "    cr=ClassicalRegister(1)\n",
    "    qc=QuantumCircuit(qr,cr)\n",
    "    \n",
    "    \n",
    "    if inp1==inp2==\"0\":\n",
    "        qc.x(0)\n",
    "    \n",
    "        \n",
    "        \n",
    "    qc.measure(0,0)\n",
    "    \n",
    "    bac= Aer.get_backend(\"qasm_simulator\")\n",
    "    job = execute(qc,bac,shots=1,memory=True)\n",
    "    output = job.result().get_memory()[0]\n",
    "    return output\n",
    "\n",
    "NAND(0,0)"
   ]
  },
  {
   "cell_type": "code",
   "execution_count": 7,
   "metadata": {},
   "outputs": [
    {
     "name": "stdout",
     "output_type": "stream",
     "text": [
      "\n",
      "Results for the NOT gate\n",
      "    Input 0 gives output 1\n",
      "    Input 1 gives output 0\n",
      "\n",
      "Results for the XOR gate\n",
      "    Inputs 0 0 give output 0\n",
      "    Inputs 0 1 give output 1\n",
      "    Inputs 1 0 give output 1\n",
      "    Inputs 1 1 give output 0\n",
      "\n",
      "Results for the AND gate\n",
      "    Inputs 0 0 give output 0\n",
      "    Inputs 0 1 give output 0\n",
      "    Inputs 1 0 give output 0\n",
      "    Inputs 1 1 give output 1\n",
      "\n",
      "Results for the NAND gate\n",
      "    Inputs 0 0 give output 1\n",
      "    Inputs 0 1 give output 0\n",
      "    Inputs 1 0 give output 0\n",
      "    Inputs 1 1 give output 0\n",
      "\n",
      "Results for the OR gate\n",
      "    Inputs 0 0 give output 0\n",
      "    Inputs 0 1 give output 1\n",
      "    Inputs 1 0 give output 1\n",
      "    Inputs 1 1 give output 1\n"
     ]
    }
   ],
   "source": [
    "print('\\nResults for the NOT gate')\n",
    "for input in ['0','1']:\n",
    "    print('    Input',input,'gives output',NOT(input))\n",
    "    \n",
    "print('\\nResults for the XOR gate')\n",
    "for input1 in ['0','1']:\n",
    "    for input2 in ['0','1']:\n",
    "        print('    Inputs',input1,input2,'give output',XOR(input1,input2))\n",
    "\n",
    "print('\\nResults for the AND gate')\n",
    "for input1 in ['0','1']:\n",
    "    for input2 in ['0','1']:\n",
    "        print('    Inputs',input1,input2,'give output',AND(input1,input2))\n",
    "\n",
    "print('\\nResults for the NAND gate')\n",
    "for input1 in ['0','1']:\n",
    "    for input2 in ['0','1']:\n",
    "        print('    Inputs',input1,input2,'give output',NAND(input1,input2))\n",
    "\n",
    "print('\\nResults for the OR gate')\n",
    "for input1 in ['0','1']:\n",
    "    for input2 in ['0','1']:\n",
    "        print('    Inputs',input1,input2,'give output',OR(input1,input2))\n"
   ]
  },
  {
   "cell_type": "code",
   "execution_count": null,
   "metadata": {},
   "outputs": [],
   "source": []
  }
 ],
 "metadata": {
  "kernelspec": {
   "display_name": "Python 3",
   "language": "python",
   "name": "python3"
  },
  "language_info": {
   "codemirror_mode": {
    "name": "ipython",
    "version": 3
   },
   "file_extension": ".py",
   "mimetype": "text/x-python",
   "name": "python",
   "nbconvert_exporter": "python",
   "pygments_lexer": "ipython3",
   "version": "3.7.5"
  }
 },
 "nbformat": 4,
 "nbformat_minor": 2
}
